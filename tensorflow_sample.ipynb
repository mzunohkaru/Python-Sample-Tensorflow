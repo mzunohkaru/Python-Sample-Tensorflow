{
 "cells": [
  {
   "cell_type": "code",
   "execution_count": 1,
   "metadata": {},
   "outputs": [
    {
     "name": "stderr",
     "output_type": "stream",
     "text": [
      "2024-11-05 23:05:14.653560: I tensorflow/core/platform/cpu_feature_guard.cc:210] This TensorFlow binary is optimized to use available CPU instructions in performance-critical operations.\n",
      "To enable the following instructions: AVX2 FMA, in other operations, rebuild TensorFlow with the appropriate compiler flags.\n"
     ]
    }
   ],
   "source": [
    "import os\n",
    "import numpy as np\n",
    "from keras.models import Sequential\n",
    "from keras.layers import Conv2D, MaxPooling2D, Flatten, Dense\n",
    "from keras.utils import to_categorical\n",
    "import cv2\n",
    "import tkinter as tk\n",
    "from tkinter import filedialog\n",
    "from PIL import ImageTk, Image"
   ]
  },
  {
   "cell_type": "code",
   "execution_count": 6,
   "metadata": {},
   "outputs": [],
   "source": [
    "from keras.layers import Activation\n",
    "IMG_SIZE = 64"
   ]
  },
  {
   "cell_type": "code",
   "execution_count": 7,
   "metadata": {},
   "outputs": [
    {
     "name": "stdout",
     "output_type": "stream",
     "text": [
      "/Users/mizuno-hikaru/Desktop/notebook_test/cat/cat1.png\n",
      "/Users/mizuno-hikaru/Desktop/notebook_test/cat/cat2.png\n",
      "/Users/mizuno-hikaru/Desktop/notebook_test/cat/cat3.png\n",
      "/Users/mizuno-hikaru/Desktop/notebook_test/cat/cat4.png\n",
      "/Users/mizuno-hikaru/Desktop/notebook_test/cat/cat5.png\n",
      "/Users/mizuno-hikaru/Desktop/notebook_test/dog/dog5.png\n",
      "/Users/mizuno-hikaru/Desktop/notebook_test/dog/dog4.png\n",
      "/Users/mizuno-hikaru/Desktop/notebook_test/dog/dog3.png\n",
      "/Users/mizuno-hikaru/Desktop/notebook_test/dog/dog2.png\n",
      "/Users/mizuno-hikaru/Desktop/notebook_test/dog/dog1.png\n"
     ]
    }
   ],
   "source": [
    "# モデルの作成とトレーニング\n",
    "data = []\n",
    "labels = []\n",
    "classes = ['cat', 'dog']\n",
    "\n",
    "for c in classes:\n",
    "    path = os.path.join(os.getcwd(), c)\n",
    "    for img in os.listdir(path):\n",
    "        try:\n",
    "            img_path = os.path.join(path, img)\n",
    "            image = cv2.imread(img_path)\n",
    "            # ⭐️画像サイズを一律にする\n",
    "            image = cv2.resize(image, (IMG_SIZE, IMG_SIZE))\n",
    "            data.append(image)\n",
    "            labels.append(classes.index(c))\n",
    "            print(img_path)\n",
    "        except Exception as e:\n",
    "            print(e)\n",
    "\n",
    "data = np.array(data)\n",
    "labels = np.array(labels)"
   ]
  },
  {
   "cell_type": "code",
   "execution_count": 8,
   "metadata": {},
   "outputs": [],
   "source": [
    "# データをシャッフルする\n",
    "idx = np.arange(data.shape[0])\n",
    "np.random.shuffle(idx)\n",
    "data = data[idx]\n",
    "labels = labels[idx]"
   ]
  },
  {
   "cell_type": "code",
   "execution_count": 9,
   "metadata": {},
   "outputs": [],
   "source": [
    "# データをトレーニング用と検証用に分割する\n",
    "num_samples = len(data)\n",
    "num_train = int(num_samples * 0.8)\n",
    "x_train = data[:num_train]\n",
    "y_train = labels[:num_train]\n",
    "x_val = data[num_train:]\n",
    "y_val = labels[num_train:]\n",
    "\n",
    "# 画像データの正規化\n",
    "x_train = x_train / 255.0\n",
    "x_val = x_val / 255.0\n",
    "\n",
    "# ラベルをone-hotエンコーディングに変換する\n",
    "y_train = to_categorical(y_train)\n",
    "y_val = to_categorical(y_val)"
   ]
  },
  {
   "cell_type": "code",
   "execution_count": 10,
   "metadata": {},
   "outputs": [
    {
     "name": "stdout",
     "output_type": "stream",
     "text": [
      "Epoch 1/10\n"
     ]
    },
    {
     "name": "stderr",
     "output_type": "stream",
     "text": [
      "/opt/anaconda3/lib/python3.12/site-packages/keras/src/layers/convolutional/base_conv.py:107: UserWarning: Do not pass an `input_shape`/`input_dim` argument to a layer. When using Sequential models, prefer using an `Input(shape)` object as the first layer in the model instead.\n",
      "  super().__init__(activity_regularizer=activity_regularizer, **kwargs)\n"
     ]
    },
    {
     "name": "stdout",
     "output_type": "stream",
     "text": [
      "\u001b[1m1/1\u001b[0m \u001b[32m━━━━━━━━━━━━━━━━━━━━\u001b[0m\u001b[37m\u001b[0m \u001b[1m2s\u001b[0m 2s/step - accuracy: 0.6250 - loss: 0.6836 - val_accuracy: 0.5000 - val_loss: 0.7188\n",
      "Epoch 2/10\n",
      "\u001b[1m1/1\u001b[0m \u001b[32m━━━━━━━━━━━━━━━━━━━━\u001b[0m\u001b[37m\u001b[0m \u001b[1m0s\u001b[0m 86ms/step - accuracy: 0.7500 - loss: 0.5696 - val_accuracy: 0.5000 - val_loss: 1.2107\n",
      "Epoch 3/10\n",
      "\u001b[1m1/1\u001b[0m \u001b[32m━━━━━━━━━━━━━━━━━━━━\u001b[0m\u001b[37m\u001b[0m \u001b[1m0s\u001b[0m 97ms/step - accuracy: 0.5000 - loss: 0.7390 - val_accuracy: 0.5000 - val_loss: 0.6961\n",
      "Epoch 4/10\n",
      "\u001b[1m1/1\u001b[0m \u001b[32m━━━━━━━━━━━━━━━━━━━━\u001b[0m\u001b[37m\u001b[0m \u001b[1m0s\u001b[0m 93ms/step - accuracy: 0.8750 - loss: 0.4302 - val_accuracy: 0.5000 - val_loss: 0.7304\n",
      "Epoch 5/10\n",
      "\u001b[1m1/1\u001b[0m \u001b[32m━━━━━━━━━━━━━━━━━━━━\u001b[0m\u001b[37m\u001b[0m \u001b[1m0s\u001b[0m 88ms/step - accuracy: 0.7500 - loss: 0.4439 - val_accuracy: 0.5000 - val_loss: 0.7227\n",
      "Epoch 6/10\n",
      "\u001b[1m1/1\u001b[0m \u001b[32m━━━━━━━━━━━━━━━━━━━━\u001b[0m\u001b[37m\u001b[0m \u001b[1m0s\u001b[0m 85ms/step - accuracy: 0.8750 - loss: 0.3162 - val_accuracy: 0.5000 - val_loss: 0.8951\n",
      "Epoch 7/10\n",
      "\u001b[1m1/1\u001b[0m \u001b[32m━━━━━━━━━━━━━━━━━━━━\u001b[0m\u001b[37m\u001b[0m \u001b[1m0s\u001b[0m 88ms/step - accuracy: 0.8750 - loss: 0.2949 - val_accuracy: 0.5000 - val_loss: 0.8683\n",
      "Epoch 8/10\n",
      "\u001b[1m1/1\u001b[0m \u001b[32m━━━━━━━━━━━━━━━━━━━━\u001b[0m\u001b[37m\u001b[0m \u001b[1m0s\u001b[0m 85ms/step - accuracy: 0.8750 - loss: 0.2412 - val_accuracy: 0.5000 - val_loss: 0.7268\n",
      "Epoch 9/10\n",
      "\u001b[1m1/1\u001b[0m \u001b[32m━━━━━━━━━━━━━━━━━━━━\u001b[0m\u001b[37m\u001b[0m \u001b[1m0s\u001b[0m 82ms/step - accuracy: 1.0000 - loss: 0.1881 - val_accuracy: 0.5000 - val_loss: 0.6897\n",
      "Epoch 10/10\n",
      "\u001b[1m1/1\u001b[0m \u001b[32m━━━━━━━━━━━━━━━━━━━━\u001b[0m\u001b[37m\u001b[0m \u001b[1m0s\u001b[0m 81ms/step - accuracy: 1.0000 - loss: 0.1721 - val_accuracy: 0.5000 - val_loss: 0.6921\n"
     ]
    },
    {
     "data": {
      "text/plain": [
       "<keras.src.callbacks.history.History at 0x180ee7770>"
      ]
     },
     "execution_count": 10,
     "metadata": {},
     "output_type": "execute_result"
    }
   ],
   "source": [
    "# モデルを構築する\n",
    "model = Sequential()\n",
    "model.add(Conv2D(32, (3, 3), input_shape=x_train.shape[1:]))\n",
    "model.add(Activation('relu'))\n",
    "model.add(MaxPooling2D(pool_size=(2, 2)))\n",
    "\n",
    "model.add(Conv2D(64, (3, 3)))\n",
    "model.add(Activation('relu'))\n",
    "model.add(MaxPooling2D(pool_size=(2, 2)))\n",
    "\n",
    "model.add(Flatten())\n",
    "model.add(Dense(64))\n",
    "model.add(Activation('relu'))\n",
    "model.add(Dense(2))\n",
    "model.add(Activation('softmax'))\n",
    "\n",
    "# モデルをコンパイルする\n",
    "model.compile(loss='categorical_crossentropy',\n",
    "              optimizer='adam',\n",
    "              metrics=['accuracy'])\n",
    "\n",
    "# モデルをトレーニングする\n",
    "model.fit(x_train, y_train, epochs=10, batch_size=32, validation_data=(x_val, y_val))"
   ]
  },
  {
   "cell_type": "code",
   "execution_count": 11,
   "metadata": {},
   "outputs": [
    {
     "name": "stdout",
     "output_type": "stream",
     "text": [
      "/Users/mizuno-hikaru/Desktop/download.jpg\n",
      "\u001b[1m1/1\u001b[0m \u001b[32m━━━━━━━━━━━━━━━━━━━━\u001b[0m\u001b[37m\u001b[0m \u001b[1m0s\u001b[0m 90ms/step\n",
      "/Users/mizuno-hikaru/Desktop/download-1.jpg\n",
      "\u001b[1m1/1\u001b[0m \u001b[32m━━━━━━━━━━━━━━━━━━━━\u001b[0m\u001b[37m\u001b[0m \u001b[1m0s\u001b[0m 26ms/step\n",
      "/Users/mizuno-hikaru/Desktop/download-2.jpg\n",
      "\u001b[1m1/1\u001b[0m \u001b[32m━━━━━━━━━━━━━━━━━━━━\u001b[0m\u001b[37m\u001b[0m \u001b[1m0s\u001b[0m 25ms/step\n",
      "/Users/mizuno-hikaru/Desktop/download-3.jpg\n",
      "\u001b[1m1/1\u001b[0m \u001b[32m━━━━━━━━━━━━━━━━━━━━\u001b[0m\u001b[37m\u001b[0m \u001b[1m0s\u001b[0m 28ms/step\n",
      "/Users/mizuno-hikaru/Desktop/images.jpg\n",
      "\u001b[1m1/1\u001b[0m \u001b[32m━━━━━━━━━━━━━━━━━━━━\u001b[0m\u001b[37m\u001b[0m \u001b[1m0s\u001b[0m 27ms/step\n",
      "/Users/mizuno-hikaru/Desktop/download.jpg\n",
      "\u001b[1m1/1\u001b[0m \u001b[32m━━━━━━━━━━━━━━━━━━━━\u001b[0m\u001b[37m\u001b[0m \u001b[1m0s\u001b[0m 26ms/step\n",
      "/Users/mizuno-hikaru/Desktop/download.jpg\n",
      "\u001b[1m1/1\u001b[0m \u001b[32m━━━━━━━━━━━━━━━━━━━━\u001b[0m\u001b[37m\u001b[0m \u001b[1m0s\u001b[0m 27ms/step\n"
     ]
    },
    {
     "ename": "",
     "evalue": "",
     "output_type": "error",
     "traceback": [
      "\u001b[1;31m現在のセルまたは前のセルでコードを実行中に、カーネル (Kernel) がクラッシュしました。\n",
      "\u001b[1;31mエラーの原因を特定するには、セル内のコードを確認してください。\n",
      "\u001b[1;31m詳細については<a href='https://aka.ms/vscodeJupyterKernelCrash'>こちら</a>をクリックします。\n",
      "\u001b[1;31m詳細については、Jupyter <a href='command:jupyter.viewOutput'>ログ</a> を参照してください。"
     ]
    }
   ],
   "source": [
    "# GUIの作成\n",
    "root = tk.Tk()\n",
    "root.title(\"Cat or Dog Classifier\")\n",
    "root.geometry(\"500x500\")\n",
    "\n",
    "\n",
    "# ボタンのクリック時の処理\n",
    "def predict():\n",
    "    # 画像を選択する\n",
    "    file_path = filedialog.askopenfilename()\n",
    "\n",
    "    # 選択された画像を表示する\n",
    "    image_tk = Image.open(file_path).resize((IMG_SIZE, IMG_SIZE))\n",
    "    image_tk = ImageTk.PhotoImage(image_tk)\n",
    "    img_label.configure(image=image_tk)\n",
    "    img_label.image = image_tk\n",
    "    print(file_path)\n",
    "\n",
    "    # 選択された画像をモデルに入力して予測結果を表示する\n",
    "    image_selected = cv2.imread(file_path)\n",
    "    image_selected = cv2.resize(image_selected, (IMG_SIZE, IMG_SIZE))\n",
    "    image_selected = np.expand_dims(image_selected, axis=0)\n",
    "    image_selected = image_selected / 255.0\n",
    "    prediction = model.predict(image_selected)\n",
    "    if np.argmax(prediction) == 0:\n",
    "        result_label.configure(text=\"This is a cat!\")\n",
    "    else:\n",
    "        result_label.configure(text=\"This is a dog!\")\n",
    "\n",
    "\n",
    "# 画像を表示するラベルの作成\n",
    "img_label = tk.Label(root)\n",
    "img_label.pack()\n",
    "\n",
    "# 予測結果を表示するラベルの作成\n",
    "result_label = tk.Label(root, font=(\"Helvetica\", 18))\n",
    "result_label.pack()\n",
    "\n",
    "# ボタンの作成\n",
    "button = tk.Button(root, text=\"Choose Image\", command=predict)\n",
    "button.pack()\n",
    "\n",
    "root.mainloop()"
   ]
  },
  {
   "cell_type": "code",
   "execution_count": 1,
   "metadata": {},
   "outputs": [
    {
     "name": "stdout",
     "output_type": "stream",
     "text": [
      "end\n"
     ]
    }
   ],
   "source": [
    "print(\"end\")"
   ]
  },
  {
   "cell_type": "code",
   "execution_count": null,
   "metadata": {},
   "outputs": [],
   "source": []
  }
 ],
 "metadata": {
  "kernelspec": {
   "display_name": "base",
   "language": "python",
   "name": "python3"
  },
  "language_info": {
   "codemirror_mode": {
    "name": "ipython",
    "version": 3
   },
   "file_extension": ".py",
   "mimetype": "text/x-python",
   "name": "python",
   "nbconvert_exporter": "python",
   "pygments_lexer": "ipython3",
   "version": "3.12.7"
  }
 },
 "nbformat": 4,
 "nbformat_minor": 2
}
